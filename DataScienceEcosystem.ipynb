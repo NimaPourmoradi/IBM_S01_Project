{
 "cells": [
  {
   "cell_type": "markdown",
   "id": "124a0786-39be-4278-813e-595b6e6489f6",
   "metadata": {},
   "source": [
    "# DataScienceEcosystem.ipynb"
   ]
  },
  {
   "cell_type": "markdown",
   "id": "935bbcc5-b805-45d1-ab5b-6125dabfdd4d",
   "metadata": {},
   "source": [
    "In this notebook, Data Science Tools and Ecosystem are summarized."
   ]
  },
  {
   "cell_type": "markdown",
   "id": "7db9c8c8-e256-4667-9f63-512fd5178294",
   "metadata": {},
   "source": [
    "**Objectives:**  \n",
    "- List popular languages for Data Science\n",
    "- List of commonly used libraries used by Data Scientists\n",
    "- examples of evaluating arithmetic expressions in Python"
   ]
  },
  {
   "cell_type": "markdown",
   "id": "2a6f70ec-10ac-4f4b-afa9-4af8fe56a9a7",
   "metadata": {},
   "source": [
    "### Some of the popular languages that Data Scientists use are:  \n",
    "1. Python\n",
    "2. R\n",
    "3. Java\n",
    "4. Scala\n",
    "5. Matlab"
   ]
  },
  {
   "cell_type": "markdown",
   "id": "d3e55c2a-b471-4c58-9703-bb2b60a60df8",
   "metadata": {},
   "source": [
    "### Some of the commonly used libraries used by Data Scientists include:  \n",
    "1. Pandas\n",
    "2. Numpy\n",
    "3. Matplotlib\n",
    "4. Seaborn\n",
    "5. Scipy"
   ]
  },
  {
   "cell_type": "markdown",
   "id": "1ff63e5a-c239-4291-8be8-30c1a42e78d1",
   "metadata": {},
   "source": [
    "|Data Science Tools|\n",
    "|------------------|\n",
    "| RStudio |\n",
    "| Apache Spark |\n",
    "| TensorFlow |"
   ]
  },
  {
   "cell_type": "markdown",
   "id": "6ec3eae7-c670-4e1d-a0a5-cc2040d361bb",
   "metadata": {},
   "source": [
    "### Below are a few examples of evaluating arithmetic expressions in Python"
   ]
  },
  {
   "cell_type": "code",
   "execution_count": 2,
   "id": "ccdc3252-4d2a-4899-b0f2-477459af22aa",
   "metadata": {},
   "outputs": [
    {
     "data": {
      "text/plain": [
       "17"
      ]
     },
     "execution_count": 2,
     "metadata": {},
     "output_type": "execute_result"
    }
   ],
   "source": [
    "# This a simple arithmetic expression to mutiply then add integers\n",
    "(3*4)+5"
   ]
  },
  {
   "cell_type": "code",
   "execution_count": 4,
   "id": "1f3de30c-d6ca-4ab6-9dd8-0f78e6141f3d",
   "metadata": {},
   "outputs": [
    {
     "data": {
      "text/plain": [
       "3.3333333333333335"
      ]
     },
     "execution_count": 4,
     "metadata": {},
     "output_type": "execute_result"
    }
   ],
   "source": [
    "# This will convert 200 minutes to hours by diving by 60\n",
    "200 / 60"
   ]
  },
  {
   "cell_type": "markdown",
   "id": "3f910cc3-ccba-4df7-98fe-5b9d553f86ad",
   "metadata": {},
   "source": [
    "<h2> Author </h2>\n",
    "Nima Pourmoradi"
   ]
  },
  {
   "cell_type": "code",
   "execution_count": null,
   "id": "cae9cbb8-951e-4ad4-bd13-c70902a793c5",
   "metadata": {},
   "outputs": [],
   "source": []
  },
  {
   "cell_type": "markdown",
   "id": "b93e9f25-af21-43dd-a610-51ceda5efe98",
   "metadata": {},
   "source": []
  }
 ],
 "metadata": {
  "kernelspec": {
   "display_name": "Python 3 (ipykernel)",
   "language": "python",
   "name": "python3"
  },
  "language_info": {
   "codemirror_mode": {
    "name": "ipython",
    "version": 3
   },
   "file_extension": ".py",
   "mimetype": "text/x-python",
   "name": "python",
   "nbconvert_exporter": "python",
   "pygments_lexer": "ipython3",
   "version": "3.11.3"
  }
 },
 "nbformat": 4,
 "nbformat_minor": 5
}
